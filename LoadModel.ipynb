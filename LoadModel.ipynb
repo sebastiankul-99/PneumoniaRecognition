{
 "cells": [
  {
   "cell_type": "code",
   "execution_count": 1,
   "id": "fe58631a",
   "metadata": {},
   "outputs": [],
   "source": [
    "import tensorflow as tf\n",
    "import torch\n",
    "import math\n",
    "import matplotlib.pyplot as plt\n",
    "import numpy as np\n",
    "import os\n",
    "import PIL\n",
    "import tensorflow as tf\n",
    "import pathlib\n",
    "from tensorflow import keras\n",
    "from tensorflow.keras import layers\n",
    "from tensorflow.keras.models import Sequential\n",
    "import os\n",
    "from os import path\n",
    "import shutil\n",
    "from keras.preprocessing.image import ImageDataGenerator\n",
    "import imgaug.augmenters as iaa\n",
    "import glob\n",
    "\n",
    "\n",
    "dtype = torch.float\n",
    "device = torch.device(\"cpu\")"
   ]
  },
  {
   "cell_type": "code",
   "execution_count": 2,
   "id": "cb3e779c",
   "metadata": {},
   "outputs": [],
   "source": [
    "data_dir = './chest_xray/test'\n",
    "img_height = 180\n",
    "img_width = 180\n",
    "batchSize =32"
   ]
  },
  {
   "cell_type": "code",
   "execution_count": 3,
   "id": "fd91311a",
   "metadata": {},
   "outputs": [
    {
     "name": "stdout",
     "output_type": "stream",
     "text": [
      "Found 624 files belonging to 3 classes.\n"
     ]
    }
   ],
   "source": [
    "test_ds = tf.keras.utils.image_dataset_from_directory(data_dir, shuffle=False, \n",
    "                                                      batch_size=batchSize,\n",
    "                                                      image_size=(img_height, img_width)\n",
    "                                                 )"
   ]
  },
  {
   "cell_type": "code",
   "execution_count": 4,
   "id": "e2d8a779",
   "metadata": {},
   "outputs": [
    {
     "name": "stdout",
     "output_type": "stream",
     "text": [
      "['NORMAL', 'PNEUMONIA_BACTERIAL', 'PNEUMONIA_VIRUS']\n"
     ]
    }
   ],
   "source": [
    "class_names = test_ds.class_names\n",
    "print(class_names)"
   ]
  },
  {
   "cell_type": "code",
   "execution_count": 5,
   "id": "58d183bc",
   "metadata": {},
   "outputs": [],
   "source": [
    "normal_count = len(glob.glob(data_dir+\"/NORMAL/*\"))\n",
    "pneumonia_virus = len(glob.glob(data_dir+\"/PNEUMONIA_VIRUS/*\"))\n",
    "pneumonia_bacterial = len(glob.glob(data_dir+\"/PNEUMONIA_BACTERIAL/*\"))"
   ]
  },
  {
   "cell_type": "code",
   "execution_count": 6,
   "id": "6c517964",
   "metadata": {},
   "outputs": [
    {
     "data": {
      "text/plain": [
       "<BarContainer object of 3 artists>"
      ]
     },
     "execution_count": 6,
     "metadata": {},
     "output_type": "execute_result"
    },
    {
     "data": {
      "image/png": "[encoded data removed]",
      "text/plain": [
       "<Figure size 432x288 with 1 Axes>"
      ]
     },
     "metadata": {
      "needs_background": "light"
     },
     "output_type": "display_data"
    }
   ],
   "source": [
    "plt.bar(x=[\"normal\", \"bacterial\", \"viral\"], height=[normal_count, pneumonia_bacterial, pneumonia_virus])"
   ]
  },
  {
   "cell_type": "code",
   "execution_count": 7,
   "id": "dba5ac29",
   "metadata": {},
   "outputs": [
    {
     "name": "stdout",
     "output_type": "stream",
     "text": [
      "Model: \"sequential_1\"\n",
      "_________________________________________________________________\n",
      " Layer (type)                Output Shape              Param #   \n",
      "=================================================================\n",
      " sequential (Sequential)     (None, 180, 180, 3)       0         \n",
      "                                                                 \n",
      " rescaling_1 (Rescaling)     (None, 180, 180, 3)       0         \n",
      "                                                                 \n",
      " conv2d (Conv2D)             (None, 180, 180, 16)      448       \n",
      "                                                                 \n",
      " max_pooling2d (MaxPooling2D  (None, 90, 90, 16)       0         \n",
      " )                                                               \n",
      "                                                                 \n",
      " batch_normalization (BatchN  (None, 90, 90, 16)       64        \n",
      " ormalization)                                                   \n",
      "                                                                 \n",
      " conv2d_1 (Conv2D)           (None, 90, 90, 32)        4640      \n",
      "                                                                 \n",
      " max_pooling2d_1 (MaxPooling  (None, 45, 45, 32)       0         \n",
      " 2D)                                                             \n",
      "                                                                 \n",
      " batch_normalization_1 (Batc  (None, 45, 45, 32)       128       \n",
      " hNormalization)                                                 \n",
      "                                                                 \n",
      " conv2d_2 (Conv2D)           (None, 45, 45, 64)        18496     \n",
      "                                                                 \n",
      " max_pooling2d_2 (MaxPooling  (None, 22, 22, 64)       0         \n",
      " 2D)                                                             \n",
      "                                                                 \n",
      " batch_normalization_2 (Batc  (None, 22, 22, 64)       256       \n",
      " hNormalization)                                                 \n",
      "                                                                 \n",
      " conv2d_transpose (Conv2DTra  (None, 88, 88, 64)       36928     \n",
      " nspose)                                                         \n",
      "                                                                 \n",
      " max_pooling2d_3 (MaxPooling  (None, 44, 44, 64)       0         \n",
      " 2D)                                                             \n",
      "                                                                 \n",
      " batch_normalization_3 (Batc  (None, 44, 44, 64)       256       \n",
      " hNormalization)                                                 \n",
      "                                                                 \n",
      " conv2d_3 (Conv2D)           (None, 44, 44, 128)       73856     \n",
      "                                                                 \n",
      " max_pooling2d_4 (MaxPooling  (None, 22, 22, 128)      0         \n",
      " 2D)                                                             \n",
      "                                                                 \n",
      " batch_normalization_4 (Batc  (None, 22, 22, 128)      512       \n",
      " hNormalization)                                                 \n",
      "                                                                 \n",
      " conv2d_4 (Conv2D)           (None, 22, 22, 64)        73792     \n",
      "                                                                 \n",
      " max_pooling2d_5 (MaxPooling  (None, 11, 11, 64)       0         \n",
      " 2D)                                                             \n",
      "                                                                 \n",
      " batch_normalization_5 (Batc  (None, 11, 11, 64)       256       \n",
      " hNormalization)                                                 \n",
      "                                                                 \n",
      " conv2d_5 (Conv2D)           (None, 11, 11, 64)        36928     \n",
      "                                                                 \n",
      " max_pooling2d_6 (MaxPooling  (None, 5, 5, 64)         0         \n",
      " 2D)                                                             \n",
      "                                                                 \n",
      " batch_normalization_6 (Batc  (None, 5, 5, 64)         256       \n",
      " hNormalization)                                                 \n",
      "                                                                 \n",
      " flatten (Flatten)           (None, 1600)              0         \n",
      "                                                                 \n",
      " dense (Dense)               (None, 128)               204928    \n",
      "                                                                 \n",
      " dropout (Dropout)           (None, 128)               0         \n",
      "                                                                 \n",
      " dense_1 (Dense)             (None, 3)                 387       \n",
      "                                                                 \n",
      "=================================================================\n",
      "Total params: 452,131\n",
      "Trainable params: 451,267\n",
      "Non-trainable params: 864\n",
      "_________________________________________________________________\n"
     ]
    }
   ],
   "source": [
    "new_model = tf.keras.models.load_model('saved_model8/my_model')\n",
    "\n",
    "# Check its architecture\n",
    "new_model.summary()"
   ]
  },
  {
   "cell_type": "code",
   "execution_count": 8,
   "id": "5bf24df1",
   "metadata": {},
   "outputs": [
    {
     "name": "stdout",
     "output_type": "stream",
     "text": [
      "20/20 - 1s - loss: 0.7791 - accuracy: 0.7708 - 879ms/epoch - 44ms/step\n",
      "Restored model, accuracy: 77.08%\n"
     ]
    }
   ],
   "source": [
    "loss, acc = new_model.evaluate(test_ds, verbose=2)\n",
    "print('Restored model, accuracy: {:5.2f}%'.format(100 * acc))"
   ]
  },
  {
   "cell_type": "code",
   "execution_count": 9,
   "id": "d258d448",
   "metadata": {},
   "outputs": [
    {
     "ename": "NameError",
     "evalue": "name 'history' is not defined",
     "output_type": "error",
     "traceback": [
      "\u001b[0;31m---------------------------------------------------------------------------\u001b[0m",
      "\u001b[0;31mNameError\u001b[0m                                 Traceback (most recent call last)",
      "\u001b[0;32m<ipython-input-9-0b220396248c>\u001b[0m in \u001b[0;36m<module>\u001b[0;34m\u001b[0m\n\u001b[0;32m----> 1\u001b[0;31m \u001b[0mprint\u001b[0m\u001b[0;34m(\u001b[0m\u001b[0mhistory\u001b[0m\u001b[0;34m)\u001b[0m\u001b[0;34m\u001b[0m\u001b[0;34m\u001b[0m\u001b[0m\n\u001b[0m",
      "\u001b[0;31mNameError\u001b[0m: name 'history' is not defined"
     ]
    }
   ],
   "source": [
    "print(history)"
   ]
  },
  {
   "cell_type": "code",
   "execution_count": 19,
   "id": "dc609812",
   "metadata": {},
   "outputs": [],
   "source": [
    "from collections import defaultdict \n",
    "new_model_hist = defaultdict(list) \n",
    "with open(\"./result_model8.txt\",'r') as f:     \n",
    "    key = \"\"     \n",
    "    Lines = f.readlines()     \n",
    "    key_line = [\"loss\", \"accuracy\", \"val_loss\", \"val_accuracy\"]     \n",
    "    for line in Lines:         \n",
    "        line = line.strip()         \n",
    "        if  line in key_line:             \n",
    "            key = line                                    \n",
    "        else:             \n",
    "            new_model_hist[key].append(float(line)) "
   ]
  },
  {
   "cell_type": "code",
   "execution_count": 20,
   "id": "1f626e5d",
   "metadata": {},
   "outputs": [
    {
     "data": {
      "image/png": "[encoded data removed]",
      "text/plain": [
       "<Figure size 576x576 with 2 Axes>"
      ]
     },
     "metadata": {
      "needs_background": "light"
     },
     "output_type": "display_data"
    }
   ],
   "source": [
    "acc = new_model_hist['accuracy']\n",
    "val_acc = new_model_hist['val_accuracy']\n",
    "\n",
    "loss = new_model_hist['loss']\n",
    "val_loss = new_model_hist['val_loss']\n",
    "\n",
    "epochs_range = range(100)\n",
    "\n",
    "plt.figure(figsize=(8, 8))\n",
    "plt.subplot(1, 2, 1)\n",
    "plt.plot(epochs_range, acc, label='Training Accuracy')\n",
    "plt.plot(epochs_range, val_acc, label='Validation Accuracy')\n",
    "plt.legend(loc='lower right')\n",
    "plt.title('Training and Validation Accuracy')\n",
    "\n",
    "plt.subplot(1, 2, 2)\n",
    "plt.plot(epochs_range, loss, label='Training Loss')\n",
    "plt.plot(epochs_range, val_loss, label='Validation Loss')\n",
    "plt.legend(loc='upper right')\n",
    "plt.title('Training and Validation Loss')\n",
    "plt.show()"
   ]
  },
  {
   "cell_type": "code",
   "execution_count": 21,
   "id": "b6bef624",
   "metadata": {},
   "outputs": [],
   "source": [
    "test_normal_path = \"chest_xray/test/NORMAL/\"\n",
    "test_bacterial_path= \"chest_xray/test/PNEUMONIA_BACTERIAL\"\n",
    "test_virus_path= \"chest_xray/test/PNEUMONIA_VIRUS\"\n",
    "\n",
    "test_files_bacteria = [i for i in os.listdir(test_bacterial_path) if \"bacteria\" in i and path.isfile(path.join(test_bacterial_path, i))]\n",
    "test_files_virus = [i for i in os.listdir(test_virus_path) if \"virus\" in i and path.isfile(path.join(test_virus_path, i))]\n",
    "test_files_normal = [i for i in os.listdir(test_normal_path) if \"NORMAL\" in i and path.isfile(path.join(test_normal_path, i))]\n",
    "img = tf.keras.utils.load_img(\n",
    "    path.join(test_normal_path, test_files_normal[0]), target_size=(img_height, img_width)\n",
    ")\n",
    "img_array = tf.keras.utils.img_to_array(img)\n",
    "img_array = tf.expand_dims(img_array, 0) # Create a batch"
   ]
  },
  {
   "cell_type": "code",
   "execution_count": 22,
   "id": "adfdb2af",
   "metadata": {},
   "outputs": [],
   "source": [
    "class_names = test_ds.class_names\n",
    "predicted_values =[]\n",
    "true_values = []\n",
    "for index in range(len(test_files_normal)):\n",
    "    img = tf.keras.utils.load_img(\n",
    "    path.join(test_normal_path, test_files_normal[index]), target_size=(img_height, img_width))\n",
    "    img_array = tf.keras.utils.img_to_array(img)\n",
    "    img_array = tf.expand_dims(img_array, 0) # Create a batch\n",
    "    predictions = new_model.predict(img_array)\n",
    "    score = tf.nn.softmax(predictions[0])\n",
    "    \n",
    "    true_values.append(1)\n",
    "    if class_names[np.argmax(score)] == \"NORMAL\":\n",
    "        predicted_values.append(1)\n",
    "    if class_names[np.argmax(score)] == \"PNEUMONIA_BACTERIAL\":\n",
    "        predicted_values.append(2)\n",
    "    if class_names[np.argmax(score)] == \"PNEUMONIA_VIRUS\":\n",
    "        predicted_values.append(3)"
   ]
  },
  {
   "cell_type": "code",
   "execution_count": 23,
   "id": "6f183b49",
   "metadata": {},
   "outputs": [],
   "source": [
    "for index in range(len(test_files_bacteria)):\n",
    "    img = tf.keras.utils.load_img(\n",
    "    path.join(test_bacterial_path, test_files_bacteria[index]), target_size=(img_height, img_width))\n",
    "    img_array = tf.keras.utils.img_to_array(img)\n",
    "    img_array = tf.expand_dims(img_array, 0) # Create a batch\n",
    "    predictions = new_model.predict(img_array)\n",
    "    score = tf.nn.softmax(predictions[0])\n",
    "    true_values.append(2)\n",
    "    if class_names[np.argmax(score)] == \"NORMAL\":\n",
    "        predicted_values.append(1)\n",
    "    if class_names[np.argmax(score)] == \"PNEUMONIA_BACTERIAL\":\n",
    "        predicted_values.append(2)\n",
    "    if class_names[np.argmax(score)] == \"PNEUMONIA_VIRUS\":\n",
    "        predicted_values.append(3)\n",
    "\n",
    "    "
   ]
  },
  {
   "cell_type": "code",
   "execution_count": 24,
   "id": "1620e116",
   "metadata": {},
   "outputs": [],
   "source": [
    "for index in range(len(test_files_virus)):\n",
    "    img = tf.keras.utils.load_img(\n",
    "    path.join(test_virus_path, test_files_virus[index]), target_size=(img_height, img_width))\n",
    "    img_array = tf.keras.utils.img_to_array(img)\n",
    "    img_array = tf.expand_dims(img_array, 0) # Create a batch\n",
    "    predictions = new_model.predict(img_array)\n",
    "    score = tf.nn.softmax(predictions[0])\n",
    "    true_values.append(3)\n",
    "    if class_names[np.argmax(score)] == \"NORMAL\":\n",
    "        predicted_values.append(1)\n",
    "    if class_names[np.argmax(score)] == \"PNEUMONIA_BACTERIAL\":\n",
    "        predicted_values.append(2)\n",
    "    if class_names[np.argmax(score)] == \"PNEUMONIA_VIRUS\":\n",
    "        predicted_values.append(3)"
   ]
  },
  {
   "cell_type": "code",
   "execution_count": 38,
   "id": "3be5310e",
   "metadata": {},
   "outputs": [
    {
     "name": "stdout",
     "output_type": "stream",
     "text": [
      "20/20 - 1s - loss: 0.9357 - accuracy: 0.7708 - 882ms/epoch - 44ms/step\n",
      "Restored model, accuracy: 77.08%\n"
     ]
    }
   ],
   "source": [
    "loss2, acc2 = second_model.evaluate(test_ds, verbose=2)\n",
    "print('Restored model, accuracy: {:5.2f}%'.format(100 * acc2))"
   ]
  },
  {
   "cell_type": "code",
   "execution_count": 25,
   "id": "d7fd37da",
   "metadata": {},
   "outputs": [
    {
     "data": {
      "text/plain": [
       "0.5387387"
      ]
     },
     "execution_count": 25,
     "metadata": {},
     "output_type": "execute_result"
    }
   ],
   "source": [
    "mse = tf.keras.metrics.MeanSquaredError()\n",
    "mse.update_state(true_values, predicted_values)\n",
    "mse.result().numpy()"
   ]
  },
  {
   "cell_type": "code",
   "execution_count": 26,
   "id": "61d6876e",
   "metadata": {},
   "outputs": [
    {
     "data": {
      "text/plain": [
       "0.790991"
      ]
     },
     "execution_count": 26,
     "metadata": {},
     "output_type": "execute_result"
    }
   ],
   "source": [
    "accuracy = tf.keras.metrics.Accuracy()\n",
    "accuracy.update_state(true_values, predicted_values)\n",
    "accuracy.result().numpy()"
   ]
  },
  {
   "cell_type": "code",
   "execution_count": 27,
   "id": "87140925",
   "metadata": {},
   "outputs": [
    {
     "data": {
      "text/plain": [
       "0.3189189"
      ]
     },
     "execution_count": 27,
     "metadata": {},
     "output_type": "execute_result"
    }
   ],
   "source": [
    "mae = tf.keras.metrics.MeanAbsoluteError()\n",
    "mae.update_state(true_values, predicted_values)\n",
    "mae.result().numpy()"
   ]
  },
  {
   "cell_type": "code",
   "execution_count": 28,
   "id": "8716323a",
   "metadata": {},
   "outputs": [
    {
     "data": {
      "text/plain": [
       "0.7339883"
      ]
     },
     "execution_count": 28,
     "metadata": {},
     "output_type": "execute_result"
    }
   ],
   "source": [
    "rmse = tf.keras.metrics.RootMeanSquaredError()\n",
    "rmse.update_state(true_values, predicted_values)\n",
    "rmse.result().numpy()"
   ]
  },
  {
   "cell_type": "code",
   "execution_count": 37,
   "id": "9be29994",
   "metadata": {},
   "outputs": [],
   "source": [
    "#m = tf.keras.metrics.FalseNegatives()\n",
    "#m.update_state(true_values, predicted_values)\n",
    "#m.result().numpy()\n"
   ]
  },
  {
   "cell_type": "code",
   "execution_count": null,
   "id": "e6457beb",
   "metadata": {
    "scrolled": true
   },
   "outputs": [],
   "source": [
    "m = tf.keras.metrics.AUC(num_thresholds=3)\n",
    "m.update_state(true_values, predicted_values)\n",
    "# threshold values are [0 - 1e-7, 0.5, 1 + 1e-7]\n",
    "# tp = [2, 1, 0], fp = [2, 0, 0], fn = [0, 1, 2], tn = [0, 2, 2]\n",
    "# tp_rate = recall = [1, 0.5, 0], fp_rate = [1, 0, 0]\n",
    "# auc = ((((1+0.5)/2)*(1-0)) + (((0.5+0)/2)*(0-0))) = 0.75\n",
    "m.result().numpy()"
   ]
  },
  {
   "cell_type": "code",
   "execution_count": 30,
   "id": "54ac36b8",
   "metadata": {},
   "outputs": [
    {
     "name": "stdout",
     "output_type": "stream",
     "text": [
      "Model: \"sequential_1\"\n",
      "_________________________________________________________________\n",
      " Layer (type)                Output Shape              Param #   \n",
      "=================================================================\n",
      " sequential (Sequential)     (None, 180, 180, 3)       0         \n",
      "                                                                 \n",
      " rescaling (Rescaling)       (None, 180, 180, 3)       0         \n",
      "                                                                 \n",
      " conv2d (Conv2D)             (None, 180, 180, 16)      448       \n",
      "                                                                 \n",
      " max_pooling2d (MaxPooling2D  (None, 90, 90, 16)       0         \n",
      " )                                                               \n",
      "                                                                 \n",
      " batch_normalization (BatchN  (None, 90, 90, 16)       64        \n",
      " ormalization)                                                   \n",
      "                                                                 \n",
      " conv2d_1 (Conv2D)           (None, 90, 90, 64)        9280      \n",
      "                                                                 \n",
      " max_pooling2d_1 (MaxPooling  (None, 45, 45, 64)       0         \n",
      " 2D)                                                             \n",
      "                                                                 \n",
      " batch_normalization_1 (Batc  (None, 45, 45, 64)       256       \n",
      " hNormalization)                                                 \n",
      "                                                                 \n",
      " conv2d_2 (Conv2D)           (None, 45, 45, 128)       73856     \n",
      "                                                                 \n",
      " max_pooling2d_2 (MaxPooling  (None, 22, 22, 128)      0         \n",
      " 2D)                                                             \n",
      "                                                                 \n",
      " batch_normalization_2 (Batc  (None, 22, 22, 128)      512       \n",
      " hNormalization)                                                 \n",
      "                                                                 \n",
      " conv2d_transpose (Conv2DTra  (None, 66, 66, 64)       73792     \n",
      " nspose)                                                         \n",
      "                                                                 \n",
      " max_pooling2d_3 (MaxPooling  (None, 33, 33, 64)       0         \n",
      " 2D)                                                             \n",
      "                                                                 \n",
      " batch_normalization_3 (Batc  (None, 33, 33, 64)       256       \n",
      " hNormalization)                                                 \n",
      "                                                                 \n",
      " conv2d_3 (Conv2D)           (None, 33, 33, 64)        36928     \n",
      "                                                                 \n",
      " max_pooling2d_4 (MaxPooling  (None, 16, 16, 64)       0         \n",
      " 2D)                                                             \n",
      "                                                                 \n",
      " batch_normalization_4 (Batc  (None, 16, 16, 64)       256       \n",
      " hNormalization)                                                 \n",
      "                                                                 \n",
      " conv2d_4 (Conv2D)           (None, 16, 16, 32)        18464     \n",
      "                                                                 \n",
      " max_pooling2d_5 (MaxPooling  (None, 8, 8, 32)         0         \n",
      " 2D)                                                             \n",
      "                                                                 \n",
      " batch_normalization_5 (Batc  (None, 8, 8, 32)         128       \n",
      " hNormalization)                                                 \n",
      "                                                                 \n",
      " dropout (Dropout)           (None, 8, 8, 32)          0         \n",
      "                                                                 \n",
      " flatten (Flatten)           (None, 2048)              0         \n",
      "                                                                 \n",
      " dense (Dense)               (None, 128)               262272    \n",
      "                                                                 \n",
      " dense_1 (Dense)             (None, 3)                 387       \n",
      "                                                                 \n",
      "=================================================================\n",
      "Total params: 476,899\n",
      "Trainable params: 476,163\n",
      "Non-trainable params: 736\n",
      "_________________________________________________________________\n"
     ]
    }
   ],
   "source": [
    "second_model = tf.keras.models.load_model('saved_model2/my_model')\n",
    "\n",
    "# Check its architecture\n",
    "second_model.summary()"
   ]
  },
  {
   "cell_type": "code",
   "execution_count": 32,
   "id": "ce15c4f2",
   "metadata": {},
   "outputs": [],
   "source": [
    "\n",
    "predicted_values2 =[]\n",
    "for index in range(len(test_files_normal)):\n",
    "    img = tf.keras.utils.load_img(\n",
    "    path.join(test_normal_path, test_files_normal[index]), target_size=(img_height, img_width))\n",
    "    img_array = tf.keras.utils.img_to_array(img)\n",
    "    img_array = tf.expand_dims(img_array, 0) # Create a batch\n",
    "    predictions = second_model.predict(img_array)\n",
    "    score = tf.nn.softmax(predictions[0])\n",
    "    if class_names[np.argmax(score)] == \"NORMAL\":\n",
    "        predicted_values2.append(1)\n",
    "    if class_names[np.argmax(score)] == \"PNEUMONIA_BACTERIAL\":\n",
    "        predicted_values2.append(2)\n",
    "    if class_names[np.argmax(score)] == \"PNEUMONIA_VIRUS\":\n",
    "        predicted_values2.append(3)\n",
    "\n",
    "for index in range(len(test_files_bacteria)):\n",
    "    img = tf.keras.utils.load_img(\n",
    "    path.join(test_bacterial_path, test_files_bacteria[index]), target_size=(img_height, img_width))\n",
    "    img_array = tf.keras.utils.img_to_array(img)\n",
    "    img_array = tf.expand_dims(img_array, 0) # Create a batch\n",
    "    predictions = second_model.predict(img_array)\n",
    "    score = tf.nn.softmax(predictions[0])\n",
    "    if class_names[np.argmax(score)] == \"NORMAL\":\n",
    "        predicted_values2.append(1)\n",
    "    if class_names[np.argmax(score)] == \"PNEUMONIA_BACTERIAL\":\n",
    "        predicted_values2.append(2)\n",
    "    if class_names[np.argmax(score)] == \"PNEUMONIA_VIRUS\":\n",
    "        predicted_values2.append(3)\n",
    "\n",
    "for index in range(len(test_files_virus)):\n",
    "    img = tf.keras.utils.load_img(\n",
    "    path.join(test_virus_path, test_files_virus[index]), target_size=(img_height, img_width))\n",
    "    img_array = tf.keras.utils.img_to_array(img)\n",
    "    img_array = tf.expand_dims(img_array, 0) # Create a batch\n",
    "    predictions = second_model.predict(img_array)\n",
    "    score = tf.nn.softmax(predictions[0])\n",
    "    if class_names[np.argmax(score)] == \"NORMAL\":\n",
    "        predicted_values2.append(1)\n",
    "    if class_names[np.argmax(score)] == \"PNEUMONIA_BACTERIAL\":\n",
    "        predicted_values2.append(2)\n",
    "    if class_names[np.argmax(score)] == \"PNEUMONIA_VIRUS\":\n",
    "        predicted_values2.append(3)"
   ]
  },
  {
   "cell_type": "code",
   "execution_count": 33,
   "id": "b65e7f96",
   "metadata": {},
   "outputs": [
    {
     "data": {
      "text/plain": [
       "0.5837838"
      ]
     },
     "execution_count": 33,
     "metadata": {},
     "output_type": "execute_result"
    }
   ],
   "source": [
    "mse2 = tf.keras.metrics.MeanSquaredError()\n",
    "mse2.update_state(true_values, predicted_values2)\n",
    "mse2.result().numpy()"
   ]
  },
  {
   "cell_type": "code",
   "execution_count": 34,
   "id": "b0613e79",
   "metadata": {},
   "outputs": [
    {
     "data": {
      "text/plain": [
       "0.7837838"
      ]
     },
     "execution_count": 34,
     "metadata": {},
     "output_type": "execute_result"
    }
   ],
   "source": [
    "accuracy2 = tf.keras.metrics.Accuracy()\n",
    "accuracy2.update_state(true_values, predicted_values2)\n",
    "accuracy2.result().numpy()"
   ]
  },
  {
   "cell_type": "code",
   "execution_count": 35,
   "id": "0ad56882",
   "metadata": {},
   "outputs": [
    {
     "data": {
      "text/plain": [
       "0.33873874"
      ]
     },
     "execution_count": 35,
     "metadata": {},
     "output_type": "execute_result"
    }
   ],
   "source": [
    "mae2 = tf.keras.metrics.MeanAbsoluteError()\n",
    "mae2.update_state(true_values, predicted_values2)\n",
    "mae2.result().numpy()"
   ]
  },
  {
   "cell_type": "code",
   "execution_count": 36,
   "id": "31472c9a",
   "metadata": {},
   "outputs": [
    {
     "data": {
      "text/plain": [
       "0.76405746"
      ]
     },
     "execution_count": 36,
     "metadata": {},
     "output_type": "execute_result"
    }
   ],
   "source": [
    "rmse2 = tf.keras.metrics.RootMeanSquaredError()\n",
    "rmse2.update_state(true_values, predicted_values2)\n",
    "rmse2.result().numpy()"
   ]
  },
  {
   "cell_type": "code",
   "execution_count": null,
   "id": "561aec55",
   "metadata": {},
   "outputs": [],
   "source": []
  }
 ],
 "metadata": {
  "kernelspec": {
   "display_name": "Python 3",
   "language": "python",
   "name": "python3"
  },
  "language_info": {
   "codemirror_mode": {
    "name": "ipython",
    "version": 3
   },
   "file_extension": ".py",
   "mimetype": "text/x-python",
   "name": "python",
   "nbconvert_exporter": "python",
   "pygments_lexer": "ipython3",
   "version": "3.9.7"
  }
 },
 "nbformat": 4,
 "nbformat_minor": 5
}
